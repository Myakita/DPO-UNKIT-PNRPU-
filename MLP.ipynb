{
 "cells": [
  {
   "cell_type": "code",
   "execution_count": 4,
   "id": "e1d2e93c-4423-495d-98c5-080284a1814e",
   "metadata": {},
   "outputs": [],
   "source": [
    "import torch\n",
    "import torch.nn as nn\n",
    "from torch.nn import functional as F\n",
    "device = 'cuda' if torch.cuda.is_available() else 'cpu'\n"
   ]
  },
  {
   "cell_type": "code",
   "execution_count": 103,
   "id": "b5d89bc9-b2d7-4923-842d-6648844b2156",
   "metadata": {},
   "outputs": [],
   "source": [
    "class Neuron:\n",
    "    def __init__(self, nin):\n",
    "        self.w = torch.randn(nin).requires_grad_(True)\n",
    "        self.b = torch.randn(1).requires_grad_(True)\n",
    "    def __call__(self, x):\n",
    "        return torch.tanh(x @ self.w + self.b)\n",
    "    def parameters(self):\n",
    "        return [self.w] + [self.b]\n",
    "class Layer:\n",
    "    def __init__(self, nin, nout):\n",
    "        self.neurons = [Neuron(nin) for _ in range(nout)]\n",
    "    def __call__(self, x):\n",
    "        return torch.cat([n(x) for n in self.neurons])\n",
    "    def parameters(self):\n",
    "        return [p for n in self.neurons for p in n.parameters()]\n",
    "class MLP:\n",
    "    def __init__(self, nin, nout):\n",
    "        sz = [nin] + nout\n",
    "        self.layers = [Layer(sz[i], sz[i+1]) for i in range(len(nout))]\n",
    "    def __call__(self, x):\n",
    "        for layer in self.layers:\n",
    "            x = layer(x)\n",
    "        return x\n",
    "    def parameters(self):\n",
    "        return [p for layer in self.layers for p in layer.parameters()]"
   ]
  },
  {
   "cell_type": "code",
   "execution_count": 104,
   "metadata": {},
   "outputs": [
    {
     "data": {
      "text/plain": [
       "tensor([0.9091], grad_fn=<CatBackward0>)"
      ]
     },
     "execution_count": 104,
     "metadata": {},
     "output_type": "execute_result"
    }
   ],
   "source": [
    "x = torch.tensor([2, 3, -1],dtype=torch.float32)\n",
    "n = MLP(3, [4,4,1])\n",
    "n(x)"
   ]
  },
  {
   "cell_type": "code",
   "execution_count": 237,
   "id": "fef98b7a-42af-4450-a524-572ccae431a0",
   "metadata": {},
   "outputs": [
    {
     "data": {
      "text/plain": [
       "tensor([ 0.1882,  0.8724,  0.2605, -0.3821], grad_fn=<CatBackward0>)"
      ]
     },
     "execution_count": 237,
     "metadata": {},
     "output_type": "execute_result"
    }
   ],
   "source": [
    "xs = [\n",
    "    [2,3,-1],\n",
    "    [3,-1,0],\n",
    "    [0,1,-1],\n",
    "    [1,-1,2],\n",
    "    ]\n",
    "ys = [1,1,0,0]\n",
    "xs = torch.tensor(xs,dtype=torch.float32)\n",
    "ys = torch.tensor(ys,dtype=torch.float32)\n",
    "ypred = [n(x) for x in xs]\n",
    "ypred = torch.cat(ypred)\n",
    "ypred"
   ]
  },
  {
   "cell_type": "code",
   "execution_count": 563,
   "id": "770bef0b-9171-44f5-810f-06d97efc758b",
   "metadata": {},
   "outputs": [],
   "source": [
    "loss.backward()"
   ]
  },
  {
   "cell_type": "code",
   "execution_count": 564,
   "id": "8d87e64f-0aa7-481a-973d-04ea84c3941c",
   "metadata": {},
   "outputs": [],
   "source": [
    "for p in n.parameters():\n",
    "    if p.grad is not None:\n",
    "        p.data += -0.01 * p.grad\n"
   ]
  },
  {
   "cell_type": "code",
   "execution_count": 565,
   "id": "c3d1a1f0",
   "metadata": {},
   "outputs": [
    {
     "data": {
      "text/plain": [
       "tensor([0.0021], grad_fn=<AddBackward0>)"
      ]
     },
     "execution_count": 565,
     "metadata": {},
     "output_type": "execute_result"
    }
   ],
   "source": [
    "ypred = [n(x) for x in xs]\n",
    "loss = sum([(yout-ygt)**2 for (yout,ygt) in zip(ypred,ys)])\n",
    "loss"
   ]
  },
  {
   "cell_type": "code",
   "execution_count": 544,
   "id": "0b81d47e",
   "metadata": {},
   "outputs": [
    {
     "data": {
      "text/plain": [
       "[tensor([0.9839], grad_fn=<CatBackward0>),\n",
       " tensor([0.9959], grad_fn=<CatBackward0>),\n",
       " tensor([-0.0446], grad_fn=<CatBackward0>),\n",
       " tensor([-0.0771], grad_fn=<CatBackward0>)]"
      ]
     },
     "execution_count": 544,
     "metadata": {},
     "output_type": "execute_result"
    }
   ],
   "source": [
    "ypred"
   ]
  },
  {
   "cell_type": "code",
   "execution_count": null,
   "id": "845a26f3",
   "metadata": {},
   "outputs": [],
   "source": []
  }
 ],
 "metadata": {
  "kernelspec": {
   "display_name": "Python 3",
   "language": "python",
   "name": "python3"
  },
  "language_info": {
   "codemirror_mode": {
    "name": "ipython",
    "version": 3
   },
   "file_extension": ".py",
   "mimetype": "text/x-python",
   "name": "python",
   "nbconvert_exporter": "python",
   "pygments_lexer": "ipython3",
   "version": "3.10.9"
  }
 },
 "nbformat": 4,
 "nbformat_minor": 5
}
